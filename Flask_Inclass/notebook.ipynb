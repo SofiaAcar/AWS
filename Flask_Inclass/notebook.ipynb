{
 "cells": [
  {
   "cell_type": "code",
   "execution_count": 1,
   "metadata": {},
   "outputs": [],
   "source": [
    "import requests"
   ]
  },
  {
   "cell_type": "code",
   "execution_count": 2,
   "metadata": {},
   "outputs": [
    {
     "name": "stdout",
     "output_type": "stream",
     "text": [
      "<Response [200]>\n"
     ]
    }
   ],
   "source": [
    "url = 'http://192.168.1.179/calc?w=90&h=190'\n",
    "\n",
    "response = requests.get(url) # get ile gonderirsek herkes okuyabilir. Bu yuzden post ile gondermek lazim ki adres satirina degil content' e yazsin.\n",
    "print(response). # 200 --> Basarili demek."
   ]
  },
  {
   "cell_type": "code",
   "execution_count": 4,
   "metadata": {},
   "outputs": [
    {
     "name": "stdout",
     "output_type": "stream",
     "text": [
      "{\n",
      "  \"Your mass index\": \"401.11\"\n",
      "}\n",
      "\n"
     ]
    }
   ],
   "source": [
    "print(response.text)"
   ]
  },
  {
   "cell_type": "code",
   "execution_count": null,
   "metadata": {},
   "outputs": [],
   "source": [
    "# get metodu ile birseyler okunabilir. Bir seyler gonderip cevap almak icin post metodu kullanilmali."
   ]
  },
  {
   "cell_type": "code",
   "execution_count": 9,
   "metadata": {},
   "outputs": [
    {
     "name": "stdout",
     "output_type": "stream",
     "text": [
      "{\n",
      "  \"prediction result\": \"$ 460.00\"\n",
      "}\n",
      "\n"
     ]
    }
   ],
   "source": [
    "url = 'http://192.168.1.179/api'  # url' yi aldik. Buna bir data gonderdik :\n",
    "data ={'Tv' : 230, 'radio' : 40, 'newspaper' : 50}\n",
    "response = requests.post(url, json=data)  # post ile gonderip bir response alacagiz.\n",
    "print(response.text)  "
   ]
  }
 ],
 "metadata": {
  "interpreter": {
   "hash": "88111df7ceb694484cfc97bdede811386554c3a33448f1f5a98428024008916c"
  },
  "kernelspec": {
   "display_name": "Python 3.8.8 ('base')",
   "language": "python",
   "name": "python3"
  },
  "language_info": {
   "codemirror_mode": {
    "name": "ipython",
    "version": 3
   },
   "file_extension": ".py",
   "mimetype": "text/x-python",
   "name": "python",
   "nbconvert_exporter": "python",
   "pygments_lexer": "ipython3",
   "version": "3.8.8"
  },
  "orig_nbformat": 4
 },
 "nbformat": 4,
 "nbformat_minor": 2
}
