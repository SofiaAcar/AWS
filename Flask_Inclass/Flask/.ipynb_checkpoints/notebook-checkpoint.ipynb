{
 "cells": [
  {
   "cell_type": "code",
   "execution_count": 1,
   "metadata": {},
   "outputs": [],
   "source": [
    "import pandas as pd\n",
    "import numpy as np"
   ]
  },
  {
   "cell_type": "code",
   "execution_count": null,
   "metadata": {},
   "outputs": [],
   "source": [
    "df  = pd.read_csv(\"car_dataset.csv\")\n",
    "df.head()"
   ]
  },
  {
   "cell_type": "code",
   "execution_count": null,
   "metadata": {},
   "outputs": [],
   "source": [
    "df.Owner.unique()"
   ]
  },
  {
   "cell_type": "code",
   "execution_count": null,
   "metadata": {},
   "outputs": [],
   "source": [
    "df.isnull().sum(), df.info()"
   ]
  },
  {
   "cell_type": "code",
   "execution_count": null,
   "metadata": {},
   "outputs": [],
   "source": [
    "df = df.drop(\"Car_Name\", axis=1)\n",
    "df[\"Year\"] = df[\"Year\"].max()-df[\"Year\"]\n",
    "df = pd.get_dummies(df,columns=[\"Fuel_Type\",\t\"Seller_Type\",\t\"Transmission\"],drop_first=True)\n",
    "df"
   ]
  },
  {
   "cell_type": "code",
   "execution_count": null,
   "metadata": {},
   "outputs": [],
   "source": [
    "X,y = df.drop(\"Selling_Price\",axis=1), df[\"Selling_Price\"]"
   ]
  },
  {
   "cell_type": "code",
   "execution_count": null,
   "metadata": {},
   "outputs": [],
   "source": [
    "from sklearn.preprocessing import MinMaxScaler"
   ]
  },
  {
   "cell_type": "code",
   "execution_count": null,
   "metadata": {},
   "outputs": [],
   "source": [
    "scaler = MinMaxScaler().fit(X)"
   ]
  },
  {
   "cell_type": "code",
   "execution_count": null,
   "metadata": {},
   "outputs": [],
   "source": [
    "X=scaler.transform(X)"
   ]
  },
  {
   "cell_type": "code",
   "execution_count": null,
   "metadata": {},
   "outputs": [],
   "source": [
    "from xgboost import XGBRegressor\n",
    "model = XGBRegressor()\n",
    "model.fit(X,y)\n",
    "model.score(X,y)"
   ]
  },
  {
   "cell_type": "code",
   "execution_count": null,
   "metadata": {},
   "outputs": [],
   "source": [
    "y_pred= model.predict(X)"
   ]
  },
  {
   "cell_type": "code",
   "execution_count": null,
   "metadata": {},
   "outputs": [],
   "source": [
    "df[\"y_pred\"] = y_pred"
   ]
  },
  {
   "cell_type": "code",
   "execution_count": null,
   "metadata": {},
   "outputs": [],
   "source": [
    "from sklearn.metrics import r2_score, mean_absolute_error"
   ]
  },
  {
   "cell_type": "code",
   "execution_count": null,
   "metadata": {},
   "outputs": [],
   "source": [
    "\"r2\",r2_score(y,y_pred), \"rmse\", mean_absolute_error(y,y_pred)**.5"
   ]
  },
  {
   "cell_type": "code",
   "execution_count": null,
   "metadata": {},
   "outputs": [],
   "source": [
    "from sklearn.linear_model import LinearRegression\n",
    "lr_model = LinearRegression(normalize=True) # \n",
    "lr_model.fit(X,y)\n",
    "lr_model.score(X,y)"
   ]
  },
  {
   "cell_type": "code",
   "execution_count": null,
   "metadata": {},
   "outputs": [],
   "source": [
    "import joblib\n",
    "joblib.dump(model,open(\"xgb_model.joblib\",\"wb\"))\n",
    "joblib.dump(scaler,open(\"scaler.joblib\",\"wb\"))\n",
    "joblib.dump(list(df.drop([\"Selling_Price\",\"y_pred\"],axis=1).columns),open(\"columns.joblib\",\"wb\"))"
   ]
  },
  {
   "cell_type": "code",
   "execution_count": null,
   "metadata": {},
   "outputs": [],
   "source": [
    "sample_one = [{\n",
    "\"Year\":2014,\n",
    "\"Selling_Price\":3.35,\n",
    "\"Present_Price\":5.59,\n",
    "\"Kms_Driven\":27000,\n",
    "\"Fuel_Type\":\"Petrol\",\n",
    "\"Seller_Type\":\"Dealer\",\n",
    "\"Transmission\":\"Manual\",\n",
    "\"Owner\":0\n",
    "    }]"
   ]
  },
  {
   "cell_type": "code",
   "execution_count": null,
   "metadata": {},
   "outputs": [],
   "source": [
    "columns = joblib.load(\"columns.joblib\")\n",
    "columns"
   ]
  },
  {
   "cell_type": "code",
   "execution_count": null,
   "metadata": {},
   "outputs": [],
   "source": [
    "df_s = pd.DataFrame(sample_one)\n",
    "df_s"
   ]
  },
  {
   "cell_type": "code",
   "execution_count": null,
   "metadata": {},
   "outputs": [],
   "source": [
    "df_s[\"Year\"] = 2018-df_s[\"Year\"]\n",
    "df_s = pd.get_dummies(df_s).reindex(columns=columns, fill_value=0)\n",
    "df_s"
   ]
  },
  {
   "cell_type": "code",
   "execution_count": null,
   "metadata": {},
   "outputs": [],
   "source": [
    "scaler = joblib.load(open(\"scaler.joblib\",\"rb\"))\n",
    "model = joblib.load(open(\"xgb_model.joblib\",\"rb\"))\n",
    "df_s = scaler.transform(df_s)\n",
    "res = model.predict(df_s)\n",
    "res"
   ]
  },
  {
   "cell_type": "code",
   "execution_count": null,
   "metadata": {},
   "outputs": [],
   "source": [
    "sample_two = [{\n",
    "\"Year\":2014,\n",
    "\"Present_Price\":5.59,\n",
    "\"Kms_Driven\":27000,\n",
    "\"Fuel_Type\":\"Petrol\",\n",
    "\"Seller_Type\":\"Dealer\",\n",
    "\"Transmission\":\"Manual\",\n",
    "\"Owner\":0\n",
    "    },\n",
    "{\n",
    "\"Year\":2014,\n",
    "\"Present_Price\":5.59,\n",
    "\"Kms_Driven\":27000,\n",
    "\"Fuel_Type\":\"Petrol\",\n",
    "\"Seller_Type\":\"Dealer\",\n",
    "\"Transmission\":\"Manual\",\n",
    "\"Owner\":0\n",
    "    }\n",
    "]"
   ]
  },
  {
   "cell_type": "code",
   "execution_count": null,
   "metadata": {},
   "outputs": [],
   "source": [
    "scaler = joblib.load(open(\"scaler.joblib\",\"rb\"))\n",
    "model = joblib.load(open(\"xgb_model.joblib\",\"rb\"))\n",
    "columns = joblib.load(\"columns.joblib\")\n",
    "df_two = pd.DataFrame(sample_two)\n",
    "df_two[\"Year\"] = 2018-df_two[\"Year\"]\n",
    "df_two = pd.get_dummies(df_two).reindex(columns=columns, fill_value=0)\n",
    "df_two = scaler.transform(df_two)\n",
    "res = model.predict(df_two)\n",
    "res\n"
   ]
  },
  {
   "cell_type": "code",
   "execution_count": null,
   "metadata": {},
   "outputs": [],
   "source": [
    "df.iloc[y_pred.argmax()]"
   ]
  },
  {
   "cell_type": "code",
   "execution_count": null,
   "metadata": {},
   "outputs": [],
   "source": [
    "import requests"
   ]
  },
  {
   "cell_type": "code",
   "execution_count": null,
   "metadata": {},
   "outputs": [],
   "source": [
    "url = \"http://127.0.0.1:5000/api\"\n",
    "data ={\n",
    "\"Year\":2014,\n",
    "\"Present_Price\":5.59,\n",
    "\"Kms_Driven\":27000,\n",
    "\"Fuel_Type\":\"Petrol\",\n",
    "\"Seller_Type\":\"Dealer\",\n",
    "\"Transmission\":\"Manual\",\n",
    "\"Owner\":0\n",
    "    }\n",
    "response = requests.post(url, json=data)\n",
    "print(response.text)"
   ]
  }
 ],
 "metadata": {
  "interpreter": {
   "hash": "89f176e6837753ece4738ac623e2a1bf4a5e6585e12e752f080d83d764f71ce3"
  },
  "kernelspec": {
   "display_name": "Python 3.8.7 64-bit",
   "language": "python",
   "name": "python3"
  },
  "language_info": {
   "codemirror_mode": {
    "name": "ipython",
    "version": 3
   },
   "file_extension": ".py",
   "mimetype": "text/x-python",
   "name": "python",
   "nbconvert_exporter": "python",
   "pygments_lexer": "ipython3",
   "version": "3.8.8"
  },
  "orig_nbformat": 4
 },
 "nbformat": 4,
 "nbformat_minor": 2
}
